{
 "cells": [
  {
   "cell_type": "code",
   "execution_count": 9,
   "metadata": {},
   "outputs": [],
   "source": [
    "#Before import install sweetviz as \"pip install sweetviz\" in prompt or respective terminals\n",
    "\n",
    "# After Successfull installation import sweetviz\n",
    "\n",
    "import sweetviz as sv"
   ]
  },
  {
   "cell_type": "code",
   "execution_count": 10,
   "metadata": {},
   "outputs": [],
   "source": [
    "#Importing pandas \n",
    "\n",
    "import pandas as pd"
   ]
  },
  {
   "cell_type": "code",
   "execution_count": 12,
   "metadata": {},
   "outputs": [],
   "source": [
    "# Load the data \n",
    "df=pd.read_csv(r'D:\\pythonworkspace\\breastcancer.csv')"
   ]
  },
  {
   "cell_type": "code",
   "execution_count": 21,
   "metadata": {},
   "outputs": [
    {
     "data": {
      "text/plain": [
       "(699, 12)"
      ]
     },
     "execution_count": 21,
     "metadata": {},
     "output_type": "execute_result"
    }
   ],
   "source": [
    "# check for the rows and columns in the data \n",
    "df.shape"
   ]
  },
  {
   "cell_type": "code",
   "execution_count": 17,
   "metadata": {},
   "outputs": [
    {
     "name": "stderr",
     "output_type": "stream",
     "text": [
      ":FEATURES DONE:                    |                     | [  0%]   00:05  -> (00:00 left)\n",
      ":PAIRWISE DONE:                    |█████████████████████| [100%]   00:00  -> (00:00 left)\n"
     ]
    },
    {
     "name": "stdout",
     "output_type": "stream",
     "text": [
      "Creating Associations graph... DONE!\n"
     ]
    }
   ],
   "source": [
    "# from sweetviz analyze the data Loaded in df\n",
    "snsreport=sv.analyze(df)"
   ]
  },
  {
   "cell_type": "code",
   "execution_count": 18,
   "metadata": {},
   "outputs": [],
   "source": [
    "# To show the report of analayzed data \n",
    "snsreport.show_html('breastcancer.html')"
   ]
  },
  {
   "cell_type": "code",
   "execution_count": 19,
   "metadata": {},
   "outputs": [
    {
     "name": "stderr",
     "output_type": "stream",
     "text": [
      ":FEATURES DONE:                    |                     | [  0%]   00:07  -> (00:00 left)\n",
      ":PAIRWISE DONE:                    |█████████████████████| [100%]   00:00  -> (00:00 left)\n"
     ]
    },
    {
     "name": "stdout",
     "output_type": "stream",
     "text": [
      "Creating Associations graph... DONE!\n"
     ]
    }
   ],
   "source": [
    "# We can also compare with various rows within the data and extract the insights from it\n",
    "\n",
    "df1=sv.compare(df[100:],df[:100])\n",
    "df1.show_html('compare.html')"
   ]
  },
  {
   "cell_type": "code",
   "execution_count": null,
   "metadata": {},
   "outputs": [],
   "source": []
  }
 ],
 "metadata": {
  "kernelspec": {
   "display_name": "Python 3",
   "language": "python",
   "name": "python3"
  },
  "language_info": {
   "codemirror_mode": {
    "name": "ipython",
    "version": 3
   },
   "file_extension": ".py",
   "mimetype": "text/x-python",
   "name": "python",
   "nbconvert_exporter": "python",
   "pygments_lexer": "ipython3",
   "version": "3.7.3"
  }
 },
 "nbformat": 4,
 "nbformat_minor": 2
}
